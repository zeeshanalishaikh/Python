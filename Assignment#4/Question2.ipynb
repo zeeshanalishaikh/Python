{
 "cells": [
  {
   "cell_type": "code",
   "execution_count": 2,
   "metadata": {},
   "outputs": [
    {
     "name": "stdout",
     "output_type": "stream",
     "text": [
      "\n",
      "Question#2 Answer\n",
      "\n",
      "Karachi :\n",
      "country => Pakistan\n",
      "population => 15.74 million\n",
      "fact => Largest city in Pakistan\n",
      "Mirpur_Mathelo :\n",
      "country => Pakistan\n",
      "population => 50 Thousand\n",
      "fact => Second largest tax paying district after Karachi in Sindh\n",
      "Paris :\n",
      "country => France\n",
      "population => 2.141 million\n",
      "fact => It’s believed that Paris only has one stop sign in the entire city\n"
     ]
    }
   ],
   "source": [
    "#Question:2\n",
    "print(\"\\nQuestion#2 Answer\\n\")\n",
    "cities = {\n",
    "    \"Karachi\" : {\n",
    "        \"country\" : \"Pakistan\",\n",
    "        \"population\" : \"15.74 million\",\n",
    "        \"fact\" : \"Largest city in Pakistan\"\n",
    "    },\n",
    "    \"Mirpur_Mathelo\" : {\n",
    "        \"country\" : \"Pakistan\",\n",
    "        \"population\" : \"50 Thousand\",\n",
    "        \"fact\" : \"Second largest tax paying district after Karachi in Sindh\"\n",
    "    },\n",
    "    \"Paris\" : {\n",
    "        \"country\" : \"France\",\n",
    "        \"population\" : \"2.141 million\",\n",
    "        \"fact\"  : \"It’s believed that Paris only has one stop sign in the entire city\"\n",
    "    }\n",
    "}\n",
    "\n",
    "for city in cities:\n",
    "    print(city,\":\")\n",
    "    for cityInfo_key,cityInfo_value in cities[city].items():\n",
    "        print(cityInfo_key+\" => \"+cityInfo_value)\n",
    "        \n",
    "\n"
   ]
  },
  {
   "cell_type": "code",
   "execution_count": null,
   "metadata": {},
   "outputs": [],
   "source": []
  }
 ],
 "metadata": {
  "kernelspec": {
   "display_name": "Python 3",
   "language": "python",
   "name": "python3"
  },
  "language_info": {
   "codemirror_mode": {
    "name": "ipython",
    "version": 3
   },
   "file_extension": ".py",
   "mimetype": "text/x-python",
   "name": "python",
   "nbconvert_exporter": "python",
   "pygments_lexer": "ipython3",
   "version": "3.7.4"
  }
 },
 "nbformat": 4,
 "nbformat_minor": 2
}
