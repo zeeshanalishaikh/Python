{
 "cells": [
  {
   "cell_type": "code",
   "execution_count": 8,
   "metadata": {},
   "outputs": [
    {
     "name": "stdout",
     "output_type": "stream",
     "text": [
      "Welcome to the Number Guess Game!\n",
      "Enter the correct number between 1 to 30 to win the game!\n",
      "You have 3 chances to guess the correct number\n",
      "\n",
      "\n",
      "10\n",
      "Your guess count is 1\n",
      "Your entered 10, which is larger\n",
      "\n",
      "\n",
      "7\n",
      "Your guess count is 2\n",
      "Your entered 7, which is larger\n",
      "\n",
      "\n",
      "3\n",
      "Your guess count is 3\n",
      "Your entered 3, which is smaller\n",
      "\n",
      " You have not guessed the proper number! The number was 6\n"
     ]
    }
   ],
   "source": [
    "#Question5\n",
    "import random\n",
    "\n",
    "print(\"Welcome to the Number Guess Game!\")\n",
    "print(\"Enter the correct number between 1 to 30 to win the game!\")\n",
    "print(\"You have 3 chances to guess the correct number\")\n",
    "guessCount = 0\n",
    "number = random.randint(1,30)\n",
    "\n",
    "while guessCount < 3:\n",
    "    print(\"\\n\")\n",
    "    userGuess = int(input())\n",
    "    guessCount += 1\n",
    "    \n",
    "    if userGuess > 30:\n",
    "        print(\"Please enter the number between 1 to 30.\")\n",
    "    \n",
    "    print(\"Your guess count is\",guessCount)\n",
    "    \n",
    "    if userGuess < number:\n",
    "        print(\"Your entered \"+str(userGuess)+\", which is smaller\")\n",
    "    if userGuess > number:\n",
    "        print(\"Your entered \"+str(userGuess)+\", which is larger\")\n",
    "        \n",
    "    if userGuess == number:\n",
    "        break\n",
    "\n",
    "if userGuess == number:\n",
    "    print(\"\\n You have guessed the correct number \"+str(number)+\" in \"+str(guessCount)+\" guesses!\")\n",
    "\n",
    "if userGuess != number:\n",
    "    print(\"\\n You have not guessed the proper number! The number was \"+str(number))"
   ]
  },
  {
   "cell_type": "code",
   "execution_count": null,
   "metadata": {},
   "outputs": [],
   "source": []
  }
 ],
 "metadata": {
  "kernelspec": {
   "display_name": "Python 3",
   "language": "python",
   "name": "python3"
  },
  "language_info": {
   "codemirror_mode": {
    "name": "ipython",
    "version": 3
   },
   "file_extension": ".py",
   "mimetype": "text/x-python",
   "name": "python",
   "nbconvert_exporter": "python",
   "pygments_lexer": "ipython3",
   "version": "3.7.4"
  }
 },
 "nbformat": 4,
 "nbformat_minor": 2
}
