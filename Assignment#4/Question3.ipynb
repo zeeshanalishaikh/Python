{
 "cells": [
  {
   "cell_type": "code",
   "execution_count": null,
   "metadata": {},
   "outputs": [
    {
     "name": "stdout",
     "output_type": "stream",
     "text": [
      "\n",
      "Question#3 Answer\n",
      "What is your age?\n",
      "Enter 'exit' when you are finished!2\n",
      "Your Ticket is Free!\n",
      "What is your age?\n",
      "Enter 'exit' when you are finished!4\n",
      "Your ticket is $10\n",
      "What is your age?\n",
      "Enter 'exit' when you are finished!14\n",
      "Your ticket is $15\n"
     ]
    }
   ],
   "source": [
    "#Question:3\n",
    "print(\"\\nQuestion#3 Answer\")\n",
    "\n",
    "question = \"What is your age?\"\n",
    "question += \"\\nEnter 'exit' when you are finished!\"\n",
    "while True:\n",
    "    age = input(question)\n",
    "    if age == 'exit':\n",
    "        break\n",
    "    age = int(age)\n",
    "    \n",
    "    if age < 3:\n",
    "        print(\"Your Ticket is Free!\")\n",
    "    elif age >=3 and age <=12:\n",
    "        print(\"Your ticket is $10\")\n",
    "    else:\n",
    "        print(\"Your ticket is $15\")\n"
   ]
  },
  {
   "cell_type": "code",
   "execution_count": null,
   "metadata": {},
   "outputs": [],
   "source": []
  }
 ],
 "metadata": {
  "kernelspec": {
   "display_name": "Python 3",
   "language": "python",
   "name": "python3"
  },
  "language_info": {
   "codemirror_mode": {
    "name": "ipython",
    "version": 3
   },
   "file_extension": ".py",
   "mimetype": "text/x-python",
   "name": "python",
   "nbconvert_exporter": "python",
   "pygments_lexer": "ipython3",
   "version": "3.7.4"
  }
 },
 "nbformat": 4,
 "nbformat_minor": 2
}
