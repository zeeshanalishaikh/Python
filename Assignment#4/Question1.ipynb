{
 "cells": [
  {
   "cell_type": "code",
   "execution_count": 1,
   "metadata": {},
   "outputs": [
    {
     "name": "stdout",
     "output_type": "stream",
     "text": [
      "FirstName = Najam, LastName = Anjum, age = 22, city = Karachi\n",
      "{'first_name': 'Najam', 'last_name': 'Anjum', 'age': 22, 'city': 'Karachi', 'qualification': 'Intermediate'}\n",
      "{'first_name': 'Najam', 'last_name': 'Anjum', 'age': 22, 'city': 'Karachi', 'qualification': 'Bechlors in Computer Science'}\n",
      "{'first_name': 'Najam', 'last_name': 'Anjum', 'age': 22, 'city': 'Karachi'}\n"
     ]
    }
   ],
   "source": [
    "person_Info = {\n",
    "    \"first_name\" : \"Najam\",\n",
    "    \"last_name\" : \"Anjum\",\n",
    "    \"age\" : 22,\n",
    "    \"city\" : \"Karachi\"\n",
    "}\n",
    "\n",
    "person_firstName = person_Info[\"first_name\"]\n",
    "person_lastName = person_Info[\"last_name\"]\n",
    "person_age = person_Info[\"age\"]\n",
    "person_city = person_Info[\"city\"]\n",
    "\n",
    "print(\"FirstName = \"+person_firstName+\", LastName = \"+person_lastName+\", age = \"+str(person_age)+\", city = \"+person_city)\n",
    "\n",
    "person_Info[\"qualification\"] = \"Intermediate\"\n",
    "print(person_Info)\n",
    "\n",
    "person_Info[\"qualification\"] = \"Bechlors in Computer Science\"\n",
    "print(person_Info)\n",
    "\n",
    "del person_Info[\"qualification\"]\n",
    "print(person_Info)\n"
   ]
  },
  {
   "cell_type": "code",
   "execution_count": null,
   "metadata": {},
   "outputs": [],
   "source": []
  }
 ],
 "metadata": {
  "kernelspec": {
   "display_name": "Python 3",
   "language": "python",
   "name": "python3"
  },
  "language_info": {
   "codemirror_mode": {
    "name": "ipython",
    "version": 3
   },
   "file_extension": ".py",
   "mimetype": "text/x-python",
   "name": "python",
   "nbconvert_exporter": "python",
   "pygments_lexer": "ipython3",
   "version": "3.7.4"
  }
 },
 "nbformat": 4,
 "nbformat_minor": 2
}
