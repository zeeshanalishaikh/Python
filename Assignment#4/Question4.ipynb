{
 "cells": [
  {
   "cell_type": "code",
   "execution_count": 2,
   "metadata": {},
   "outputs": [
    {
     "name": "stdout",
     "output_type": "stream",
     "text": [
      "\n",
      "Question#4 Answer\n",
      "One of my favourite book is Smarter way to learn Python!\n",
      "One of my favourite book is Introduction to Python by Ben Duckket\n"
     ]
    }
   ],
   "source": [
    "#Question:4\n",
    "print(\"\\nQuestion#4 Answer\")\n",
    "\n",
    "def fav_book(title):\n",
    "    #Display the message with title\n",
    "    print(\"One of my favourite book is \"+title)\n",
    "\n",
    "#calling function\n",
    "fav_book(\"Smarter way to learn Python!\")\n",
    "\n",
    "fav_book(\"Introduction to Python by Ben Duckket\")"
   ]
  },
  {
   "cell_type": "code",
   "execution_count": null,
   "metadata": {},
   "outputs": [],
   "source": []
  }
 ],
 "metadata": {
  "kernelspec": {
   "display_name": "Python 3",
   "language": "python",
   "name": "python3"
  },
  "language_info": {
   "codemirror_mode": {
    "name": "ipython",
    "version": 3
   },
   "file_extension": ".py",
   "mimetype": "text/x-python",
   "name": "python",
   "nbconvert_exporter": "python",
   "pygments_lexer": "ipython3",
   "version": "3.7.4"
  }
 },
 "nbformat": 4,
 "nbformat_minor": 2
}
