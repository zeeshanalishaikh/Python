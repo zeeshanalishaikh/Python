{
 "cells": [
  {
   "cell_type": "code",
   "execution_count": 10,
   "metadata": {},
   "outputs": [
    {
     "name": "stdout",
     "output_type": "stream",
     "text": [
      "Enter any number to identify its parity property 112\n",
      "112 is Even Number\n"
     ]
    }
   ],
   "source": [
    "number_to_check = int(input(\"Enter any number to identify its parity property \"))\n",
    "if number_to_check % 2 == 0: \n",
    "    print(str(number_to_check)+\" is Even Number\")\n",
    "else:\n",
    "    print(str(number_to_check)+\" is Odd Number\")"
   ]
  }
 ],
 "metadata": {
  "kernelspec": {
   "display_name": "Python 3",
   "language": "python",
   "name": "python3"
  },
  "language_info": {
   "codemirror_mode": {
    "name": "ipython",
    "version": 3
   },
   "file_extension": ".py",
   "mimetype": "text/x-python",
   "name": "python",
   "nbconvert_exporter": "python",
   "pygments_lexer": "ipython3",
   "version": "3.7.4"
  }
 },
 "nbformat": 4,
 "nbformat_minor": 2
}
