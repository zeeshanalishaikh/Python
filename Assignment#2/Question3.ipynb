{
 "cells": [
  {
   "cell_type": "code",
   "execution_count": 8,
   "metadata": {},
   "outputs": [
    {
     "name": "stdout",
     "output_type": "stream",
     "text": [
      "The Length of list is ==> 7\n",
      "The Length if list is ==> 7\n"
     ]
    }
   ],
   "source": [
    "list = [\"Deepak\", \"Zeeshan\", \"Aayushman\", \"Akshay\", \"Arun\", \"Ali\", \"Ahmed\"]\n",
    "\n",
    "#way1\n",
    "print(\"The Length of list is ==> \"+str(len(list)))\n",
    "\n",
    "#way2\n",
    "count = 0\n",
    "for count_length in list:\n",
    "    count+=1\n",
    "\n",
    "print(\"The Length if list is ==> \"+str(count))\n",
    "    \n",
    "\n"
   ]
  },
  {
   "cell_type": "code",
   "execution_count": null,
   "metadata": {},
   "outputs": [],
   "source": []
  }
 ],
 "metadata": {
  "kernelspec": {
   "display_name": "Python 3",
   "language": "python",
   "name": "python3"
  },
  "language_info": {
   "codemirror_mode": {
    "name": "ipython",
    "version": 3
   },
   "file_extension": ".py",
   "mimetype": "text/x-python",
   "name": "python",
   "nbconvert_exporter": "python",
   "pygments_lexer": "ipython3",
   "version": "3.7.4"
  }
 },
 "nbformat": 4,
 "nbformat_minor": 2
}
