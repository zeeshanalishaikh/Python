{
 "cells": [
  {
   "cell_type": "code",
   "execution_count": 5,
   "metadata": {},
   "outputs": [
    {
     "name": "stdout",
     "output_type": "stream",
     "text": [
      "Enter the marks of English 88\n",
      "Enter the marks of Maths 92\n",
      "Enter the marks of Science 77\n",
      "Enter the marks of Computer Programming 91\n",
      "Enter the marks of Urdu 75\n",
      "Your total marks are 500\n",
      "Your total marks are 423\n",
      "Your grade is B\n"
     ]
    }
   ],
   "source": [
    "english_marks = int(input(\"Enter the marks of English \"))\n",
    "math_marks = int(input(\"Enter the marks of Maths \"))\n",
    "science_marks = int(input(\"Enter the marks of Science \"))\n",
    "computer_programming_marks = int(input(\"Enter the marks of Computer Programming \"))\n",
    "urdu_marks = int(input(\"Enter the marks of Urdu \"))\n",
    "\n",
    "total_marks = 500\n",
    "obtained_marks = english_marks + math_marks + science_marks + computer_programming_marks + urdu_marks\n",
    "grade = \"\"\n",
    "if obtained_marks <= 499 and obtained_marks >= 460:\n",
    "    grade = \"A\"\n",
    "elif obtained_marks <= 459 and obtained_marks >= 430:\n",
    "    grade = \"B+\"\n",
    "elif obtained_marks <= 429 and obtained_marks >= 400:\n",
    "    grade = \"B\"\n",
    "elif obtained_marks <= 399 and obtained_marks >= 370:\n",
    "    grade = \"C+\"\n",
    "elif obtained_marks <= 369 and obtained_marks >= 340:\n",
    "    grade = \"C\"\n",
    "elif obtained_marks < 340:\n",
    "    grade = \"F\"\n",
    "    \n",
    "\n",
    "print(\"Your total marks are \"+str(total_marks))\n",
    "print(\"Your total marks are \"+str(obtained_marks))\n",
    "print(\"Your grade is \"+grade)\n",
    "\n",
    "\n",
    "\n",
    "\n",
    "\n"
   ]
  },
  {
   "cell_type": "code",
   "execution_count": null,
   "metadata": {},
   "outputs": [],
   "source": []
  }
 ],
 "metadata": {
  "kernelspec": {
   "display_name": "Python 3",
   "language": "python",
   "name": "python3"
  },
  "language_info": {
   "codemirror_mode": {
    "name": "ipython",
    "version": 3
   },
   "file_extension": ".py",
   "mimetype": "text/x-python",
   "name": "python",
   "nbconvert_exporter": "python",
   "pygments_lexer": "ipython3",
   "version": "3.7.4"
  }
 },
 "nbformat": 4,
 "nbformat_minor": 2
}
