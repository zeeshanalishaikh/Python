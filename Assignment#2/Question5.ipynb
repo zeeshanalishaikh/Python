{
 "cells": [
  {
   "cell_type": "code",
   "execution_count": 8,
   "metadata": {
    "scrolled": true
   },
   "outputs": [
    {
     "name": "stdout",
     "output_type": "stream",
     "text": [
      "The largest number in List is ==>  91\n"
     ]
    }
   ],
   "source": [
    "numeric_list = [55, 7, 88, 2, 13, -9, 91, 39, 77, -11]\n",
    "\n",
    "largest_number = 0\n",
    "for largest_value in numeric_list:\n",
    "    if largest_value > largest_number:\n",
    "        largest_number = largest_value\n",
    "    \n",
    "print(\"The largest number in List is ==> \",largest_number)\n"
   ]
  }
 ],
 "metadata": {
  "kernelspec": {
   "display_name": "Python 3",
   "language": "python",
   "name": "python3"
  },
  "language_info": {
   "codemirror_mode": {
    "name": "ipython",
    "version": 3
   },
   "file_extension": ".py",
   "mimetype": "text/x-python",
   "name": "python",
   "nbconvert_exporter": "python",
   "pygments_lexer": "ipython3",
   "version": "3.7.4"
  }
 },
 "nbformat": 4,
 "nbformat_minor": 2
}
