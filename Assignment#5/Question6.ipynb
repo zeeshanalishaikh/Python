{
 "cells": [
  {
   "cell_type": "code",
   "execution_count": 9,
   "metadata": {},
   "outputs": [
    {
     "name": "stdout",
     "output_type": "stream",
     "text": [
      "You bought the Grocery from the Market :\n",
      "Fruit : Apple\n",
      "Vegetable : Peas & Potatoes\n",
      "Colddrink : Pepsi\n",
      "Coffee : Nescafe\n",
      "Grains : Pasta & Rice\n",
      "Condiments : Salt & Pepper\n"
     ]
    }
   ],
   "source": [
    "def groceryList( **grocerylist):\n",
    "    print(\"You bought the Grocery from the Market :\")\n",
    "    for key,value in grocerylist.items():\n",
    "        print(key+\" : \"+value)\n",
    "        \n",
    "groceryList(Fruit=\"Apple\", Vegetable=\"Peas & Potatoes\", Colddrink=\"Pepsi\", Coffee=\"Nescafe\", \n",
    "            Grains=\"Pasta & Rice\", Condiments=\"Salt & Pepper\")\n",
    "\n",
    "        "
   ]
  }
 ],
 "metadata": {
  "kernelspec": {
   "display_name": "Python 3",
   "language": "python",
   "name": "python3"
  },
  "language_info": {
   "codemirror_mode": {
    "name": "ipython",
    "version": 3
   },
   "file_extension": ".py",
   "mimetype": "text/x-python",
   "name": "python",
   "nbconvert_exporter": "python",
   "pygments_lexer": "ipython3",
   "version": "3.7.4"
  }
 },
 "nbformat": 4,
 "nbformat_minor": 2
}
