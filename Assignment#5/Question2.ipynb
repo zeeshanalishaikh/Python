{
 "cells": [
  {
   "cell_type": "code",
   "execution_count": 5,
   "metadata": {},
   "outputs": [
    {
     "name": "stdout",
     "output_type": "stream",
     "text": [
      "string in lower case=> 12\n",
      "string in upper case=> 10\n"
     ]
    }
   ],
   "source": [
    "#Question2\n",
    "def countStringLiterals(string):\n",
    "    countLower = 0\n",
    "    countUpper = 0\n",
    "    for i in string:\n",
    "        if i.islower():\n",
    "            countLower+=1\n",
    "        elif i.isupper():\n",
    "            countUpper+=1\n",
    "    print(\"string in lower case=>\",countLower)\n",
    "    print(\"string in upper case=>\",countUpper)\n",
    "\n",
    "countStringLiterals(\"HuMpty DuMpTY sAt On a WaLl\")\n"
   ]
  },
  {
   "cell_type": "code",
   "execution_count": null,
   "metadata": {},
   "outputs": [],
   "source": []
  }
 ],
 "metadata": {
  "kernelspec": {
   "display_name": "Python 3",
   "language": "python",
   "name": "python3"
  },
  "language_info": {
   "codemirror_mode": {
    "name": "ipython",
    "version": 3
   },
   "file_extension": ".py",
   "mimetype": "text/x-python",
   "name": "python",
   "nbconvert_exporter": "python",
   "pygments_lexer": "ipython3",
   "version": "3.7.4"
  }
 },
 "nbformat": 4,
 "nbformat_minor": 2
}
