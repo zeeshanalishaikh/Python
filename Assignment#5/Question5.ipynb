{
 "cells": [
  {
   "cell_type": "code",
   "execution_count": 10,
   "metadata": {},
   "outputs": [
    {
     "name": "stdout",
     "output_type": "stream",
     "text": [
      "11 is a prime number\n",
      "99 is not a prime number\n",
      "37 is a prime number\n"
     ]
    }
   ],
   "source": [
    "#Question5\n",
    "def checkPrime(n):\n",
    "    if n>1:\n",
    "        for i in range(2,n):\n",
    "            if (n%i) == 0:\n",
    "                print(str(n)+\" is not a prime number\")\n",
    "                break\n",
    "        else:\n",
    "            print(str(n)+\" is a prime number\")\n",
    "    else:\n",
    "        print(\"please enter number greaater than 1\")\n",
    "\n",
    "\n",
    "checkPrime(11)\n",
    "checkPrime(99)\n",
    "checkPrime(37)\n",
    "\n"
   ]
  }
 ],
 "metadata": {
  "kernelspec": {
   "display_name": "Python 3",
   "language": "python",
   "name": "python3"
  },
  "language_info": {
   "codemirror_mode": {
    "name": "ipython",
    "version": 3
   },
   "file_extension": ".py",
   "mimetype": "text/x-python",
   "name": "python",
   "nbconvert_exporter": "python",
   "pygments_lexer": "ipython3",
   "version": "3.7.4"
  }
 },
 "nbformat": 4,
 "nbformat_minor": 2
}
