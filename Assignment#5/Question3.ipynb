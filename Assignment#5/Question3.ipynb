{
 "cells": [
  {
   "cell_type": "code",
   "execution_count": 1,
   "metadata": {},
   "outputs": [
    {
     "name": "stdout",
     "output_type": "stream",
     "text": [
      "Original List==> [2, 4, 5, 9, 10, 6, 8, 11, 13, 1, 43, 22, 44]\n",
      "List of Even Numbers From Given List==> [2, 4, 10, 6, 8, 22, 44]\n"
     ]
    }
   ],
   "source": [
    "#Question3\n",
    "def checkEven(List):\n",
    "    EvenList = []\n",
    "    for i in List:\n",
    "        if i%2==0:\n",
    "            EvenList.append(i)\n",
    "    print(\"Original List==>\",List)\n",
    "    print(\"List of Even Numbers From Given List==>\",EvenList)\n",
    "    \n",
    "Alllist = [2,4,5,9,10,6,8,11,13,1,43,22,44]\n",
    "checkEven(Alllist)"
   ]
  },
  {
   "cell_type": "code",
   "execution_count": null,
   "metadata": {},
   "outputs": [],
   "source": []
  }
 ],
 "metadata": {
  "kernelspec": {
   "display_name": "Python 3",
   "language": "python",
   "name": "python3"
  },
  "language_info": {
   "codemirror_mode": {
    "name": "ipython",
    "version": 3
   },
   "file_extension": ".py",
   "mimetype": "text/x-python",
   "name": "python",
   "nbconvert_exporter": "python",
   "pygments_lexer": "ipython3",
   "version": "3.7.4"
  }
 },
 "nbformat": 4,
 "nbformat_minor": 2
}
