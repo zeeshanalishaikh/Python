{
 "cells": [
  {
   "cell_type": "code",
   "execution_count": null,
   "metadata": {},
   "outputs": [],
   "source": [
    "#Question4\n",
    "def check(string):\n",
    "    original_str = string.lower()\n",
    "    \n",
    "    reverse_str = makeReverse(original_str)\n",
    "    if original_str == reverse_str:\n",
    "        return \"Palidrome String\"\n",
    "    else:\n",
    "        return \"Not a Palindrome String\"\n",
    "\n",
    "print(check(\"madam\")) "
   ]
  }
 ],
 "metadata": {
  "kernelspec": {
   "display_name": "Python 3",
   "language": "python",
   "name": "python3"
  },
  "language_info": {
   "codemirror_mode": {
    "name": "ipython",
    "version": 3
   },
   "file_extension": ".py",
   "mimetype": "text/x-python",
   "name": "python",
   "nbconvert_exporter": "python",
   "pygments_lexer": "ipython3",
   "version": "3.7.4"
  }
 },
 "nbformat": 4,
 "nbformat_minor": 2
}
