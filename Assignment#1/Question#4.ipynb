{
 "cells": [
  {
   "cell_type": "code",
   "execution_count": 10,
   "metadata": {},
   "outputs": [
    {
     "name": "stdout",
     "output_type": "stream",
     "text": [
      "Enter Radius Value = 3\n",
      "Area of Circle having radius 3 is ==>  28.274333882308138\n"
     ]
    }
   ],
   "source": [
    "from math import pi\n",
    "#getting radius value\n",
    "radius = int(input(\"Enter Radius Value = \"))\n",
    "\n",
    "#getting square if radius\n",
    "radius_square = radius**2\n",
    "\n",
    "#area = pi*r2(square)\n",
    "area = pi*radius_square\n",
    "\n",
    "print(\"Area of Circle having radius \"+str(radius)+\" is ==> \",area)"
   ]
  }
 ],
 "metadata": {
  "kernelspec": {
   "display_name": "Python 3",
   "language": "python",
   "name": "python3"
  },
  "language_info": {
   "codemirror_mode": {
    "name": "ipython",
    "version": 3
   },
   "file_extension": ".py",
   "mimetype": "text/x-python",
   "name": "python",
   "nbconvert_exporter": "python",
   "pygments_lexer": "ipython3",
   "version": "3.7.4"
  }
 },
 "nbformat": 4,
 "nbformat_minor": 2
}
