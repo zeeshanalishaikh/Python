{
 "cells": [
  {
   "cell_type": "code",
   "execution_count": 10,
   "metadata": {},
   "outputs": [
    {
     "name": "stdout",
     "output_type": "stream",
     "text": [
      "2019-11-06\n",
      "06-11-2019\n",
      "06-11-19\n",
      "November 06, 2019\n",
      "Nov 06, 19\n"
     ]
    }
   ],
   "source": [
    "from datetime import date\n",
    "\n",
    "date = date.today()\n",
    "#Format1(e.g yyyy-mm-dd)\n",
    "print(date)\n",
    "\n",
    "#Format2(e.g dd-mm-yy)\n",
    "date1 = date.strftime(\"%d-%m-%Y\")\n",
    "print(date1)\n",
    "\n",
    "#Format3(e.g dd-mm-yyyy)\n",
    "date2 = date.strftime(\"%d-%m-%y\")\n",
    "print(date2)\n",
    "\n",
    "#Format4(e.g Textual Format)\n",
    "date3 = date.strftime(\"%B %d, %Y\")\n",
    "print(date3)\n",
    "\n",
    "\n",
    "#Format5(e.g Textual Format)\n",
    "date4 = date.strftime(\"%b %d,%y\")\n",
    "print(date4)"
   ]
  },
  {
   "cell_type": "code",
   "execution_count": null,
   "metadata": {},
   "outputs": [],
   "source": []
  }
 ],
 "metadata": {
  "kernelspec": {
   "display_name": "Python 3",
   "language": "python",
   "name": "python3"
  },
  "language_info": {
   "codemirror_mode": {
    "name": "ipython",
    "version": 3
   },
   "file_extension": ".py",
   "mimetype": "text/x-python",
   "name": "python",
   "nbconvert_exporter": "python",
   "pygments_lexer": "ipython3",
   "version": "3.7.4"
  }
 },
 "nbformat": 4,
 "nbformat_minor": 2
}
