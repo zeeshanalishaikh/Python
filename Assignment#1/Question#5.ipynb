{
 "cells": [
  {
   "cell_type": "code",
   "execution_count": 5,
   "metadata": {},
   "outputs": [
    {
     "name": "stdout",
     "output_type": "stream",
     "text": [
      "Enter Your FirstName = Deepak\n",
      "Enter Your LastName = Kumar\n",
      "FirstName=Deepak & LastName=Kumar\n",
      "Names in reverse Order ==>Kumar Deepak\n"
     ]
    }
   ],
   "source": [
    "#getting FirstName\n",
    "firstName = input(\"Enter Your FirstName = \")\n",
    "\n",
    "#getting LastName\n",
    "lastName = input(\"Enter Your LastName = \")\n",
    "\n",
    "print(\"FirstName=\"+firstName+ \" & LastName=\"+lastName)\n",
    "\n",
    "#first and last names in reverse order\n",
    "print(\"Names in reverse Order ==>\"+lastName+\" \"+firstName)\n"
   ]
  },
  {
   "cell_type": "code",
   "execution_count": null,
   "metadata": {},
   "outputs": [],
   "source": []
  }
 ],
 "metadata": {
  "kernelspec": {
   "display_name": "Python 3",
   "language": "python",
   "name": "python3"
  },
  "language_info": {
   "codemirror_mode": {
    "name": "ipython",
    "version": 3
   },
   "file_extension": ".py",
   "mimetype": "text/x-python",
   "name": "python",
   "nbconvert_exporter": "python",
   "pygments_lexer": "ipython3",
   "version": "3.7.4"
  }
 },
 "nbformat": 4,
 "nbformat_minor": 2
}
