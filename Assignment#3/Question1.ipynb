{
 "cells": [
  {
   "cell_type": "code",
   "execution_count": 7,
   "metadata": {},
   "outputs": [
    {
     "name": "stdout",
     "output_type": "stream",
     "text": [
      "===CALCULATOR===\n",
      "Enter Number One => 4\n",
      "Enter Number Two => 5\n",
      "Enter Operator => -\n",
      "The Subtraction of 4 & 5 is -1\n"
     ]
    }
   ],
   "source": [
    "print(\"===CALCULATOR===\")\n",
    "number1 = int(input(\"Enter Number One => \"))\n",
    "number2 = int(input(\"Enter Number Two => \"))\n",
    "operator = input(\"Enter Operator => \")\n",
    "final_answer = 0\n",
    "operator_value = \"\"\n",
    "if operator == \"+\":\n",
    "    final_answer = number1+number2\n",
    "    operator_value = \"Addition\"\n",
    "elif operator == \"-\":\n",
    "    final_answer = number1-number2\n",
    "    operator_value = \"Subtraction\"\n",
    "elif operator == \"*\":\n",
    "    final_answer = number1*number2\n",
    "    operator_value = \"Multiplication\"\n",
    "elif operator == \"/\":\n",
    "    final_answer = number1/number2\n",
    "    operator_value = \"Division\"\n",
    "elif operator == \"%\":\n",
    "    final_answer = number1%number2\n",
    "    operator_value = \"Power\"\n",
    "else:\n",
    "    print(\"Enter the correct Operator!\")\n",
    "print(\"The \"+operator_value+\" of \"+str(number1)+\" & \"+str(number2)+\" is \"+str(final_answer))"
   ]
  },
  {
   "cell_type": "code",
   "execution_count": null,
   "metadata": {},
   "outputs": [],
   "source": []
  }
 ],
 "metadata": {
  "kernelspec": {
   "display_name": "Python 3",
   "language": "python",
   "name": "python3"
  },
  "language_info": {
   "codemirror_mode": {
    "name": "ipython",
    "version": 3
   },
   "file_extension": ".py",
   "mimetype": "text/x-python",
   "name": "python",
   "nbconvert_exporter": "python",
   "pygments_lexer": "ipython3",
   "version": "3.7.4"
  }
 },
 "nbformat": 4,
 "nbformat_minor": 2
}
