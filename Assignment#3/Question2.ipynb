{
 "cells": [
  {
   "cell_type": "code",
   "execution_count": 17,
   "metadata": {},
   "outputs": [
    {
     "name": "stdout",
     "output_type": "stream",
     "text": [
      "The numeric values in list are : 123\n",
      "The numeric values in list are : 45\n",
      "The numeric values in list are : 9\n"
     ]
    }
   ],
   "source": [
    "list = [\"Dk\", \"ak\", \"123\", \"45\", \"ali\", \"9\"]\n",
    "for search in list:\n",
    "    if search.isnumeric(): \n",
    "        print(\"The numeric values in list are : \"+search)\n"
   ]
  }
 ],
 "metadata": {
  "kernelspec": {
   "display_name": "Python 3",
   "language": "python",
   "name": "python3"
  },
  "language_info": {
   "codemirror_mode": {
    "name": "ipython",
    "version": 3
   },
   "file_extension": ".py",
   "mimetype": "text/x-python",
   "name": "python",
   "nbconvert_exporter": "python",
   "pygments_lexer": "ipython3",
   "version": "3.7.4"
  }
 },
 "nbformat": 4,
 "nbformat_minor": 2
}
