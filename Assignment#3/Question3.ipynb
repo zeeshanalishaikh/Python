{
 "cells": [
  {
   "cell_type": "code",
   "execution_count": 2,
   "metadata": {},
   "outputs": [
    {
     "name": "stdout",
     "output_type": "stream",
     "text": [
      "{1: 'Deepak', 2: 'Akshay'}\n",
      "{1: 'Deepak', 2: 'Akshay', 3: 'Zeeshan'}\n"
     ]
    }
   ],
   "source": [
    "dict = {\n",
    "    1 : \"Deepak\",\n",
    "    2 : \"Ali\"\n",
    "}\n",
    "print(dict)\n",
    "dict.update({3 : \"Zeeshan\"})\n",
    "print(dict)"
   ]
  }
 ],
 "metadata": {
  "kernelspec": {
   "display_name": "Python 3",
   "language": "python",
   "name": "python3"
  },
  "language_info": {
   "codemirror_mode": {
    "name": "ipython",
    "version": 3
   },
   "file_extension": ".py",
   "mimetype": "text/x-python",
   "name": "python",
   "nbconvert_exporter": "python",
   "pygments_lexer": "ipython3",
   "version": "3.7.4"
  }
 },
 "nbformat": 4,
 "nbformat_minor": 2
}
