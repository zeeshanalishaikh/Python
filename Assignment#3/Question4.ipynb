{
 "cells": [
  {
   "cell_type": "code",
   "execution_count": 6,
   "metadata": {},
   "outputs": [
    {
     "name": "stdout",
     "output_type": "stream",
     "text": [
      "{'a': 75, 'b': 39, 'c': 11, 'd': 99}\n",
      "75\n",
      "114\n",
      "125\n",
      "224\n"
     ]
    }
   ],
   "source": [
    "dictionary = {\n",
    "    'a' : 75,\n",
    "    'b' : 39,\n",
    "    'c' : 11,\n",
    "    'd' : 99\n",
    "}\n",
    "print(dictionary)\n",
    "sum = 0\n",
    "for i in dictionary:\n",
    "    sum = sum + dictionary[i]\n",
    "    print(sum)"
   ]
  },
  {
   "cell_type": "code",
   "execution_count": null,
   "metadata": {},
   "outputs": [],
   "source": []
  }
 ],
 "metadata": {
  "kernelspec": {
   "display_name": "Python 3",
   "language": "python",
   "name": "python3"
  },
  "language_info": {
   "codemirror_mode": {
    "name": "ipython",
    "version": 3
   },
   "file_extension": ".py",
   "mimetype": "text/x-python",
   "name": "python",
   "nbconvert_exporter": "python",
   "pygments_lexer": "ipython3",
   "version": "3.7.4"
  }
 },
 "nbformat": 4,
 "nbformat_minor": 2
}
