{
 "cells": [
  {
   "cell_type": "code",
   "execution_count": 12,
   "metadata": {},
   "outputs": [
    {
     "name": "stdout",
     "output_type": "stream",
     "text": [
      "Enter the key to check 11\n",
      "Key 11 is not present in list\n"
     ]
    }
   ],
   "source": [
    "d = {\n",
    "    1 : 10,\n",
    "    2 : 20,\n",
    "    3 : 30,\n",
    "    4 : 40, \n",
    "    5 : 50,\n",
    "    6 : 60, \n",
    "    7 : 70,\n",
    "    8 : 80,\n",
    "    9 : 90,\n",
    "    10 : 100\n",
    "}\n",
    "key = int(input(\"Enter the key to check \"))\n",
    "if key in d:\n",
    "    print(\"Key \"+str(key)+\" is present in list\")\n",
    "else:\n",
    "    print(\"Key \"+str(key)+\" is not present in list\")\n",
    "    "
   ]
  },
  {
   "cell_type": "code",
   "execution_count": null,
   "metadata": {},
   "outputs": [],
   "source": []
  },
  {
   "cell_type": "code",
   "execution_count": null,
   "metadata": {},
   "outputs": [],
   "source": []
  }
 ],
 "metadata": {
  "kernelspec": {
   "display_name": "Python 3",
   "language": "python",
   "name": "python3"
  },
  "language_info": {
   "codemirror_mode": {
    "name": "ipython",
    "version": 3
   },
   "file_extension": ".py",
   "mimetype": "text/x-python",
   "name": "python",
   "nbconvert_exporter": "python",
   "pygments_lexer": "ipython3",
   "version": "3.7.4"
  }
 },
 "nbformat": 4,
 "nbformat_minor": 2
}
